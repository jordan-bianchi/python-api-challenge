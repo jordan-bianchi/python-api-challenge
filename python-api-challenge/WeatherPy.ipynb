{
 "cells": [
  {
   "cell_type": "markdown",
   "metadata": {},
   "source": [
    "# WeatherPy\n",
    "----\n",
    "\n",
    "#### Note\n",
    "* Instructions have been included for each segment. You do not have to follow them exactly, but they are included to help you think through the steps."
   ]
  },
  {
   "cell_type": "code",
   "execution_count": 1,
   "metadata": {},
   "outputs": [
    {
     "name": "stdout",
     "output_type": "stream",
     "text": [
      "Requirement already satisfied: citipy in /opt/anaconda3/lib/python3.8/site-packages (0.0.5)\r\n",
      "Requirement already satisfied: kdtree>=0.12 in /opt/anaconda3/lib/python3.8/site-packages (from citipy) (0.16)\r\n"
     ]
    }
   ],
   "source": [
    "!pip install citipy"
   ]
  },
  {
   "cell_type": "code",
   "execution_count": 2,
   "metadata": {
    "scrolled": true
   },
   "outputs": [],
   "source": [
    "# Dependencies and Setup\n",
    "import matplotlib.pyplot as plt\n",
    "import pandas as pd\n",
    "import numpy as np\n",
    "import requests\n",
    "import time\n",
    "from scipy import stats\n",
    "from scipy.stats import linregress\n",
    "from pprint import pprint\n",
    "\n",
    "# Import API key\n",
    "from api_keys import weather_api_key\n",
    "\n",
    "# Incorporated citipy to determine city based on latitude and longitude\n",
    "from citipy import citipy\n",
    "\n",
    "# Output File (CSV)\n",
    "output_data_file = \"output_data/cities.csv\"\n",
    "\n",
    "# Range of latitudes and longitudes\n",
    "lat_range = (-90, 90)\n",
    "lng_range = (-180, 180)"
   ]
  },
  {
   "cell_type": "markdown",
   "metadata": {},
   "source": [
    "## Generate Cities List"
   ]
  },
  {
   "cell_type": "code",
   "execution_count": 3,
   "metadata": {},
   "outputs": [
    {
     "data": {
      "text/plain": [
       "622"
      ]
     },
     "execution_count": 3,
     "metadata": {},
     "output_type": "execute_result"
    }
   ],
   "source": [
    "# List for holding lat_lngs and cities\n",
    "lat_lngs = []\n",
    "cities = []\n",
    "\n",
    "# Create a set of random lat and lng combinations\n",
    "lats = np.random.uniform(lat_range[0], lat_range[1], size=1500)\n",
    "lngs = np.random.uniform(lng_range[0], lng_range[1], size=1500)\n",
    "lat_lngs = zip(lats, lngs)\n",
    "\n",
    "# Identify nearest city for each lat, lng combination\n",
    "for lat_lng in lat_lngs:\n",
    "    city = citipy.nearest_city(lat_lng[0], lat_lng[1]).city_name\n",
    "    \n",
    "    # If the city is unique, then add it to a our cities list\n",
    "    if city not in cities:\n",
    "        cities.append(city)\n",
    "\n",
    "# Print the city count to confirm sufficient count\n",
    "len(cities)"
   ]
  },
  {
   "cell_type": "markdown",
   "metadata": {},
   "source": [
    "### Perform API Calls\n",
    "* Perform a weather check on each city using a series of successive API calls.\n",
    "* Include a print log of each city as it'sbeing processed (with the city number and city name).\n"
   ]
  },
  {
   "cell_type": "code",
   "execution_count": 4,
   "metadata": {},
   "outputs": [
    {
     "name": "stdout",
     "output_type": "stream",
     "text": [
      "{'base': 'stations',\n",
      " 'clouds': {'all': 75},\n",
      " 'cod': 200,\n",
      " 'coord': {'lat': -53.15, 'lon': -70.9167},\n",
      " 'dt': 1619798059,\n",
      " 'id': 3874787,\n",
      " 'main': {'feels_like': 35.22,\n",
      "          'humidity': 93,\n",
      "          'pressure': 996,\n",
      "          'temp': 41,\n",
      "          'temp_max': 41,\n",
      "          'temp_min': 41},\n",
      " 'name': 'Punta Arenas',\n",
      " 'rain': {'1h': 0.4},\n",
      " 'sys': {'country': 'CL',\n",
      "         'id': 8487,\n",
      "         'sunrise': 1619783868,\n",
      "         'sunset': 1619817821,\n",
      "         'type': 1},\n",
      " 'timezone': -10800,\n",
      " 'visibility': 8000,\n",
      " 'weather': [{'description': 'light rain',\n",
      "              'icon': '10d',\n",
      "              'id': 500,\n",
      "              'main': 'Rain'}],\n",
      " 'wind': {'deg': 180, 'speed': 9.22}}\n"
     ]
    }
   ],
   "source": [
    " # Save config information.\n",
    "url = \"http://api.openweathermap.org/data/2.5/weather?\"\n",
    "units = \"imperial\"\n",
    "\n",
    "# Build partial query URL\n",
    "query_url = f\"{url}appid={weather_api_key}&units={units}&q=\"\n",
    "response = requests.get(query_url + city).json()\n",
    "pprint(response)"
   ]
  },
  {
   "cell_type": "code",
   "execution_count": 5,
   "metadata": {
    "scrolled": true
   },
   "outputs": [
    {
     "name": "stdout",
     "output_type": "stream",
     "text": [
      "Beginning Data Retrieval \n",
      "-----------------------------\n",
      "Processing Record 1 of Set 1: jamestown\n",
      "Processing Record 2 of Set 1: hobart\n",
      "Processing Record 3 of Set 1: punta arenas\n",
      "Processing Record 4 of Set 1: albany\n",
      "City not found. Skipping...\n",
      "Processing Record 5 of Set 1: ribeira grande\n",
      "Processing Record 6 of Set 1: dikson\n",
      "Processing Record 7 of Set 1: fortuna\n",
      "Processing Record 8 of Set 1: marion\n",
      "Processing Record 9 of Set 1: rikitea\n",
      "Processing Record 10 of Set 1: bengkulu\n",
      "Processing Record 11 of Set 1: moussoro\n",
      "Processing Record 12 of Set 1: pudozh\n",
      "Processing Record 13 of Set 1: torbay\n",
      "City not found. Skipping...\n",
      "Processing Record 14 of Set 1: coihaique\n",
      "Processing Record 15 of Set 1: hermanus\n",
      "Processing Record 16 of Set 1: cayenne\n",
      "City not found. Skipping...\n",
      "Processing Record 17 of Set 1: samarai\n",
      "Processing Record 18 of Set 1: busselton\n",
      "Processing Record 19 of Set 1: zhanaozen\n",
      "Processing Record 20 of Set 1: ushuaia\n",
      "Processing Record 21 of Set 1: cidreira\n",
      "Processing Record 22 of Set 1: nishihara\n",
      "Processing Record 23 of Set 1: saint george\n",
      "Processing Record 24 of Set 1: ponta do sol\n",
      "Processing Record 25 of Set 1: boyuibe\n",
      "Processing Record 26 of Set 1: pisco\n",
      "City not found. Skipping...\n",
      "Processing Record 27 of Set 1: lompoc\n",
      "Processing Record 28 of Set 1: bluff\n",
      "Processing Record 29 of Set 1: quixada\n",
      "Processing Record 30 of Set 1: puerto ayora\n",
      "City not found. Skipping...\n",
      "City not found. Skipping...\n",
      "Processing Record 31 of Set 1: sao filipe\n",
      "Processing Record 32 of Set 1: kodiak\n",
      "Processing Record 33 of Set 1: nurota\n",
      "Processing Record 34 of Set 1: atuona\n",
      "City not found. Skipping...\n",
      "Processing Record 35 of Set 1: hailar\n",
      "Processing Record 36 of Set 1: swellendam\n",
      "Processing Record 37 of Set 1: christchurch\n",
      "City not found. Skipping...\n",
      "Processing Record 38 of Set 1: vaini\n",
      "Processing Record 39 of Set 1: castro\n",
      "Processing Record 40 of Set 1: deputatskiy\n",
      "Processing Record 41 of Set 1: bredasdorp\n",
      "Processing Record 42 of Set 1: hami\n",
      "Processing Record 43 of Set 1: kapaa\n",
      "Processing Record 44 of Set 1: port alfred\n",
      "Processing Record 45 of Set 1: hithadhoo\n",
      "Processing Record 46 of Set 1: ocosingo\n",
      "Processing Record 47 of Set 1: ilave\n",
      "Processing Record 48 of Set 1: halifax\n",
      "Processing Record 49 of Set 1: saint-philippe\n",
      "Processing Record 50 of Set 1: northam\n",
      "Processing Record 1 of Set 2: vila velha\n",
      "Processing Record 2 of Set 2: eyl\n",
      "City not found. Skipping...\n",
      "Processing Record 3 of Set 2: cascais\n",
      "Processing Record 4 of Set 2: moose factory\n",
      "Processing Record 5 of Set 2: brae\n",
      "Processing Record 6 of Set 2: lorengau\n",
      "Processing Record 7 of Set 2: airai\n",
      "Processing Record 8 of Set 2: bay roberts\n",
      "Processing Record 9 of Set 2: lakatoro\n",
      "Processing Record 10 of Set 2: udachnyy\n",
      "Processing Record 11 of Set 2: culpeper\n",
      "Processing Record 12 of Set 2: rio grande\n",
      "City not found. Skipping...\n",
      "Processing Record 13 of Set 2: lulea\n",
      "Processing Record 14 of Set 2: saskylakh\n",
      "Processing Record 15 of Set 2: barahona\n",
      "City not found. Skipping...\n",
      "Processing Record 16 of Set 2: ofaqim\n",
      "City not found. Skipping...\n",
      "Processing Record 17 of Set 2: yellowknife\n",
      "Processing Record 18 of Set 2: husavik\n",
      "City not found. Skipping...\n",
      "Processing Record 19 of Set 2: carnarvon\n",
      "Processing Record 20 of Set 2: general pico\n",
      "Processing Record 21 of Set 2: mataura\n",
      "Processing Record 22 of Set 2: vila\n",
      "Processing Record 23 of Set 2: vostok\n",
      "Processing Record 24 of Set 2: butaritari\n",
      "City not found. Skipping...\n",
      "Processing Record 25 of Set 2: barrow\n",
      "Processing Record 26 of Set 2: arco\n",
      "Processing Record 27 of Set 2: kaitangata\n",
      "Processing Record 28 of Set 2: kenai\n",
      "City not found. Skipping...\n",
      "Processing Record 29 of Set 2: tuktoyaktuk\n",
      "Processing Record 30 of Set 2: thompson\n",
      "Processing Record 31 of Set 2: bac lieu\n",
      "Processing Record 32 of Set 2: safranbolu\n",
      "Processing Record 33 of Set 2: tiksi\n",
      "Processing Record 34 of Set 2: bathsheba\n",
      "Processing Record 35 of Set 2: langham\n",
      "Processing Record 36 of Set 2: humaita\n",
      "Processing Record 37 of Set 2: nikolskoye\n",
      "Processing Record 38 of Set 2: bowen\n",
      "Processing Record 39 of Set 2: avarua\n",
      "Processing Record 40 of Set 2: saint-georges\n",
      "Processing Record 41 of Set 2: leh\n",
      "Processing Record 42 of Set 2: faanui\n",
      "Processing Record 43 of Set 2: qaanaaq\n",
      "Processing Record 44 of Set 2: omboue\n",
      "Processing Record 45 of Set 2: artyom\n",
      "Processing Record 46 of Set 2: banda aceh\n",
      "Processing Record 47 of Set 2: baruun-urt\n",
      "Processing Record 48 of Set 2: san carlos de bariloche\n",
      "Processing Record 49 of Set 2: sobolevo\n",
      "Processing Record 50 of Set 2: guerrero negro\n",
      "Processing Record 1 of Set 3: purpe\n",
      "Processing Record 2 of Set 3: nabire\n",
      "City not found. Skipping...\n",
      "Processing Record 3 of Set 3: half moon bay\n",
      "Processing Record 4 of Set 3: cacu\n",
      "Processing Record 5 of Set 3: tiznit\n",
      "Processing Record 6 of Set 3: tuatapere\n",
      "Processing Record 7 of Set 3: baykit\n",
      "Processing Record 8 of Set 3: provideniya\n",
      "Processing Record 9 of Set 3: alassio\n",
      "Processing Record 10 of Set 3: meulaboh\n",
      "Processing Record 11 of Set 3: takoradi\n",
      "Processing Record 12 of Set 3: boguchany\n",
      "Processing Record 13 of Set 3: itarema\n",
      "City not found. Skipping...\n",
      "Processing Record 14 of Set 3: sechura\n",
      "Processing Record 15 of Set 3: cape town\n",
      "City not found. Skipping...\n",
      "Processing Record 16 of Set 3: stornoway\n",
      "Processing Record 17 of Set 3: sulangan\n",
      "Processing Record 18 of Set 3: la ronge\n",
      "Processing Record 19 of Set 3: saldanha\n",
      "Processing Record 20 of Set 3: moree\n",
      "Processing Record 21 of Set 3: maniitsoq\n",
      "Processing Record 22 of Set 3: zeya\n",
      "Processing Record 23 of Set 3: port elizabeth\n",
      "Processing Record 24 of Set 3: sinop\n",
      "Processing Record 25 of Set 3: kruisfontein\n",
      "Processing Record 26 of Set 3: naze\n",
      "City not found. Skipping...\n",
      "Processing Record 27 of Set 3: kalevala\n",
      "Processing Record 28 of Set 3: ponta delgada\n",
      "Processing Record 29 of Set 3: arraial do cabo\n",
      "Processing Record 30 of Set 3: chapais\n",
      "Processing Record 31 of Set 3: varzob\n",
      "Processing Record 32 of Set 3: mar del plata\n",
      "Processing Record 33 of Set 3: ahipara\n",
      "Processing Record 34 of Set 3: hilo\n",
      "Processing Record 35 of Set 3: komsomolets\n",
      "Processing Record 36 of Set 3: rio claro\n",
      "Processing Record 37 of Set 3: ancud\n",
      "Processing Record 38 of Set 3: kindu\n",
      "Processing Record 39 of Set 3: valparaiso\n",
      "Processing Record 40 of Set 3: bethel\n",
      "City not found. Skipping...\n",
      "Processing Record 41 of Set 3: georgetown\n",
      "Processing Record 42 of Set 3: khandyga\n",
      "Processing Record 43 of Set 3: kabelvag\n",
      "Processing Record 44 of Set 3: clyde river\n",
      "Processing Record 45 of Set 3: aguada de pasajeros\n",
      "Processing Record 46 of Set 3: dulce nombre de culmi\n",
      "Processing Record 47 of Set 3: victoria\n",
      "Processing Record 48 of Set 3: hovd\n",
      "Processing Record 49 of Set 3: valley city\n",
      "Processing Record 50 of Set 3: dunn\n",
      "Processing Record 1 of Set 4: dingle\n",
      "Processing Record 2 of Set 4: cam ranh\n",
      "Processing Record 3 of Set 4: zhob\n",
      "Processing Record 4 of Set 4: vao\n",
      "Processing Record 5 of Set 4: daro\n",
      "Processing Record 6 of Set 4: pevek\n",
      "Processing Record 7 of Set 4: poronaysk\n",
      "Processing Record 8 of Set 4: nanortalik\n",
      "Processing Record 9 of Set 4: brigantine\n",
      "Processing Record 10 of Set 4: new norfolk\n",
      "Processing Record 11 of Set 4: chuy\n",
      "City not found. Skipping...\n",
      "Processing Record 12 of Set 4: tura\n",
      "Processing Record 13 of Set 4: zhigalovo\n",
      "Processing Record 14 of Set 4: laerdalsoyri\n",
      "Processing Record 15 of Set 4: taoudenni\n",
      "City not found. Skipping...\n",
      "Processing Record 16 of Set 4: jumla\n",
      "Processing Record 17 of Set 4: nantucket\n",
      "Processing Record 18 of Set 4: aklavik\n",
      "Processing Record 19 of Set 4: bolshaya martynovka\n",
      "City not found. Skipping...\n",
      "City not found. Skipping...\n",
      "Processing Record 20 of Set 4: loubomo\n",
      "City not found. Skipping...\n",
      "Processing Record 21 of Set 4: salta\n",
      "Processing Record 22 of Set 4: zemio\n",
      "Processing Record 23 of Set 4: alakurtti\n",
      "City not found. Skipping...\n",
      "Processing Record 24 of Set 4: norman wells\n",
      "Processing Record 25 of Set 4: scarborough\n",
      "Processing Record 26 of Set 4: moctezuma\n",
      "Processing Record 27 of Set 4: foumban\n",
      "Processing Record 28 of Set 4: anamur\n",
      "Processing Record 29 of Set 4: kavieng\n",
      "Processing Record 30 of Set 4: urumqi\n",
      "Processing Record 31 of Set 4: hamilton\n",
      "Processing Record 32 of Set 4: atyrau\n",
      "Processing Record 33 of Set 4: tramore\n",
      "Processing Record 34 of Set 4: omutninsk\n",
      "Processing Record 35 of Set 4: cockburn town\n",
      "Processing Record 36 of Set 4: sungaipenuh\n"
     ]
    },
    {
     "name": "stdout",
     "output_type": "stream",
     "text": [
      "Processing Record 37 of Set 4: srednekolymsk\n",
      "Processing Record 38 of Set 4: batemans bay\n",
      "Processing Record 39 of Set 4: ilhabela\n",
      "Processing Record 40 of Set 4: lebu\n",
      "City not found. Skipping...\n",
      "Processing Record 41 of Set 4: san cristobal\n",
      "Processing Record 42 of Set 4: petrolina\n",
      "Processing Record 43 of Set 4: conde\n",
      "Processing Record 44 of Set 4: hualmay\n",
      "Processing Record 45 of Set 4: krasnyy chikoy\n",
      "Processing Record 46 of Set 4: severo-kurilsk\n",
      "Processing Record 47 of Set 4: pangnirtung\n",
      "Processing Record 48 of Set 4: skjervoy\n",
      "Processing Record 49 of Set 4: yar-sale\n",
      "Processing Record 50 of Set 4: babati\n",
      "Processing Record 1 of Set 5: hasaki\n",
      "Processing Record 2 of Set 5: kruszwica\n",
      "City not found. Skipping...\n",
      "Processing Record 3 of Set 5: chokurdakh\n",
      "Processing Record 4 of Set 5: tasiilaq\n",
      "Processing Record 5 of Set 5: huambo\n",
      "Processing Record 6 of Set 5: kloulklubed\n",
      "Processing Record 7 of Set 5: suntar\n",
      "Processing Record 8 of Set 5: ypsonas\n",
      "Processing Record 9 of Set 5: carepa\n",
      "Processing Record 10 of Set 5: iskandar\n",
      "Processing Record 11 of Set 5: saint-paul\n",
      "City not found. Skipping...\n",
      "Processing Record 12 of Set 5: longyearbyen\n",
      "Processing Record 13 of Set 5: cherskiy\n",
      "Processing Record 14 of Set 5: virginia beach\n",
      "Processing Record 15 of Set 5: bonavista\n",
      "Processing Record 16 of Set 5: muncie\n",
      "Processing Record 17 of Set 5: kobelyaky\n",
      "Processing Record 18 of Set 5: ladario\n",
      "Processing Record 19 of Set 5: wau\n",
      "Processing Record 20 of Set 5: maragogi\n",
      "Processing Record 21 of Set 5: san patricio\n",
      "Processing Record 22 of Set 5: ulaangom\n",
      "Processing Record 23 of Set 5: campbell river\n",
      "Processing Record 24 of Set 5: ixtapa\n",
      "Processing Record 25 of Set 5: jiaozuo\n",
      "Processing Record 26 of Set 5: linxia\n",
      "Processing Record 27 of Set 5: athabasca\n",
      "Processing Record 28 of Set 5: natal\n",
      "Processing Record 29 of Set 5: saint anthony\n",
      "Processing Record 30 of Set 5: primorsk\n",
      "Processing Record 31 of Set 5: khatanga\n",
      "Processing Record 32 of Set 5: ostrovnoy\n",
      "Processing Record 33 of Set 5: kleive\n",
      "Processing Record 34 of Set 5: usinsk\n",
      "Processing Record 35 of Set 5: vestmannaeyjar\n",
      "Processing Record 36 of Set 5: kidal\n",
      "Processing Record 37 of Set 5: mehamn\n",
      "Processing Record 38 of Set 5: buraydah\n",
      "Processing Record 39 of Set 5: waddan\n",
      "City not found. Skipping...\n",
      "Processing Record 40 of Set 5: lagoa\n",
      "Processing Record 41 of Set 5: madridejos\n",
      "Processing Record 42 of Set 5: vadso\n",
      "Processing Record 43 of Set 5: port lincoln\n",
      "Processing Record 44 of Set 5: aksu\n",
      "Processing Record 45 of Set 5: sao jose da coroa grande\n",
      "Processing Record 46 of Set 5: rawson\n",
      "Processing Record 47 of Set 5: saryg-sep\n",
      "Processing Record 48 of Set 5: camopi\n",
      "Processing Record 49 of Set 5: maloy\n",
      "Processing Record 50 of Set 5: skegness\n",
      "Processing Record 1 of Set 6: klaksvik\n",
      "City not found. Skipping...\n",
      "City not found. Skipping...\n",
      "Processing Record 2 of Set 6: denpasar\n",
      "Processing Record 3 of Set 6: cabo san lucas\n",
      "Processing Record 4 of Set 6: katsuura\n",
      "Processing Record 5 of Set 6: shitanjing\n",
      "Processing Record 6 of Set 6: hobyo\n",
      "Processing Record 7 of Set 6: chepareria\n",
      "Processing Record 8 of Set 6: palmer\n",
      "Processing Record 9 of Set 6: chodavaram\n",
      "Processing Record 10 of Set 6: bambous virieux\n",
      "Processing Record 11 of Set 6: kualakapuas\n",
      "Processing Record 12 of Set 6: berlevag\n",
      "Processing Record 13 of Set 6: sangar\n",
      "City not found. Skipping...\n",
      "Processing Record 14 of Set 6: san ignacio\n",
      "Processing Record 15 of Set 6: mosetse\n",
      "Processing Record 16 of Set 6: taltal\n",
      "Processing Record 17 of Set 6: araouane\n",
      "Processing Record 18 of Set 6: progreso\n",
      "Processing Record 19 of Set 6: sioux lookout\n",
      "Processing Record 20 of Set 6: bilibino\n",
      "Processing Record 21 of Set 6: bulgan\n",
      "Processing Record 22 of Set 6: dudinka\n",
      "City not found. Skipping...\n",
      "Processing Record 23 of Set 6: gizo\n",
      "City not found. Skipping...\n",
      "Processing Record 24 of Set 6: emerald\n",
      "City not found. Skipping...\n",
      "Processing Record 25 of Set 6: olafsvik\n",
      "Processing Record 26 of Set 6: cassilandia\n",
      "Processing Record 27 of Set 6: kyra\n",
      "Processing Record 28 of Set 6: alofi\n",
      "Processing Record 29 of Set 6: kieta\n",
      "Processing Record 30 of Set 6: esperance\n",
      "Processing Record 31 of Set 6: kondinskoye\n",
      "Processing Record 32 of Set 6: santa fe\n",
      "Processing Record 33 of Set 6: bairiki\n",
      "Processing Record 34 of Set 6: yulara\n",
      "Processing Record 35 of Set 6: upernavik\n",
      "Processing Record 36 of Set 6: manta\n",
      "Processing Record 37 of Set 6: boa vista\n",
      "Processing Record 38 of Set 6: los llanos de aridane\n",
      "Processing Record 39 of Set 6: kaniama\n",
      "Processing Record 40 of Set 6: sawakin\n",
      "Processing Record 41 of Set 6: cocachacra\n",
      "Processing Record 42 of Set 6: shingu\n",
      "Processing Record 43 of Set 6: san lawrenz\n",
      "Processing Record 44 of Set 6: litovko\n",
      "Processing Record 45 of Set 6: minturno\n",
      "Processing Record 46 of Set 6: surat thani\n",
      "Processing Record 47 of Set 6: iqaluit\n",
      "Processing Record 48 of Set 6: roald\n",
      "Processing Record 49 of Set 6: brezovo\n",
      "City not found. Skipping...\n",
      "Processing Record 50 of Set 6: homer\n",
      "Processing Record 1 of Set 7: pantayivka\n",
      "Processing Record 2 of Set 7: lagunas\n",
      "Processing Record 3 of Set 7: lexington\n",
      "Processing Record 4 of Set 7: tungor\n",
      "Processing Record 5 of Set 7: makinsk\n",
      "City not found. Skipping...\n",
      "City not found. Skipping...\n",
      "Processing Record 6 of Set 7: quatre cocos\n",
      "Processing Record 7 of Set 7: ukiah\n",
      "Processing Record 8 of Set 7: fairbanks\n",
      "Processing Record 9 of Set 7: kantilo\n",
      "Processing Record 10 of Set 7: chaman\n",
      "Processing Record 11 of Set 7: pedernales\n",
      "Processing Record 12 of Set 7: balkanabat\n",
      "Processing Record 13 of Set 7: bardsir\n",
      "Processing Record 14 of Set 7: khasan\n",
      "Processing Record 15 of Set 7: namibe\n",
      "Processing Record 16 of Set 7: ilulissat\n",
      "Processing Record 17 of Set 7: wucheng\n",
      "City not found. Skipping...\n",
      "Processing Record 18 of Set 7: martapura\n",
      "Processing Record 19 of Set 7: east london\n",
      "Processing Record 20 of Set 7: talnakh\n",
      "City not found. Skipping...\n",
      "Processing Record 21 of Set 7: lao cai\n",
      "Processing Record 22 of Set 7: dukat\n",
      "Processing Record 23 of Set 7: ozinki\n",
      "Processing Record 24 of Set 7: capinzal\n",
      "Processing Record 25 of Set 7: geraldton\n",
      "Processing Record 26 of Set 7: santa isabel do rio negro\n",
      "Processing Record 27 of Set 7: bandarbeyla\n",
      "Processing Record 28 of Set 7: nuuk\n",
      "Processing Record 29 of Set 7: chapada dos guimaraes\n",
      "Processing Record 30 of Set 7: inuvik\n",
      "Processing Record 31 of Set 7: roma\n",
      "City not found. Skipping...\n",
      "Processing Record 32 of Set 7: shakawe\n",
      "Processing Record 33 of Set 7: shambu\n",
      "Processing Record 34 of Set 7: touros\n",
      "Processing Record 35 of Set 7: dicabisagan\n",
      "Processing Record 36 of Set 7: corning\n",
      "Processing Record 37 of Set 7: uaua\n",
      "Processing Record 38 of Set 7: lamu\n",
      "Processing Record 39 of Set 7: wasilla\n",
      "Processing Record 40 of Set 7: anloga\n",
      "Processing Record 41 of Set 7: misratah\n",
      "Processing Record 42 of Set 7: gat\n",
      "Processing Record 43 of Set 7: souillac\n",
      "Processing Record 44 of Set 7: narsaq\n",
      "City not found. Skipping...\n",
      "Processing Record 45 of Set 7: numan\n",
      "Processing Record 46 of Set 7: lugovskoy\n",
      "Processing Record 47 of Set 7: dzaoudzi\n",
      "Processing Record 48 of Set 7: sovetskiy\n",
      "Processing Record 49 of Set 7: lethem\n",
      "Processing Record 50 of Set 7: gucheng\n",
      "Processing Record 1 of Set 8: haflong\n",
      "Processing Record 2 of Set 8: zhigansk\n",
      "City not found. Skipping...\n",
      "Processing Record 3 of Set 8: riverdale\n",
      "Processing Record 4 of Set 8: rudbar\n",
      "Processing Record 5 of Set 8: zharkent\n",
      "Processing Record 6 of Set 8: nome\n",
      "Processing Record 7 of Set 8: saint-pierre\n",
      "Processing Record 8 of Set 8: winnemucca\n",
      "City not found. Skipping...\n",
      "Processing Record 9 of Set 8: cabedelo\n",
      "Processing Record 10 of Set 8: atar\n",
      "Processing Record 11 of Set 8: matay\n",
      "City not found. Skipping...\n",
      "Processing Record 12 of Set 8: san-pedro\n",
      "Processing Record 13 of Set 8: lac du bonnet\n",
      "Processing Record 14 of Set 8: burnie\n",
      "Processing Record 15 of Set 8: douala\n",
      "Processing Record 16 of Set 8: chake chake\n",
      "Processing Record 17 of Set 8: bambanglipuro\n",
      "Processing Record 18 of Set 8: vilhena\n",
      "Processing Record 19 of Set 8: umm lajj\n",
      "Processing Record 20 of Set 8: asau\n",
      "Processing Record 21 of Set 8: khuzhir\n",
      "Processing Record 22 of Set 8: tikapur\n",
      "Processing Record 23 of Set 8: chulman\n",
      "Processing Record 24 of Set 8: hanzhong\n",
      "Processing Record 25 of Set 8: nioro\n",
      "Processing Record 26 of Set 8: kamenka\n",
      "Processing Record 27 of Set 8: sierra vista\n"
     ]
    },
    {
     "name": "stdout",
     "output_type": "stream",
     "text": [
      "Processing Record 28 of Set 8: shelburne\n",
      "Processing Record 29 of Set 8: sao miguel do araguaia\n",
      "Processing Record 30 of Set 8: nanticoke\n",
      "Processing Record 31 of Set 8: catalina foothills\n",
      "Processing Record 32 of Set 8: coolum beach\n",
      "Processing Record 33 of Set 8: kurilsk\n",
      "Processing Record 34 of Set 8: phan thiet\n",
      "Processing Record 35 of Set 8: hanyang\n",
      "Processing Record 36 of Set 8: jinchang\n",
      "Processing Record 37 of Set 8: idlib\n",
      "City not found. Skipping...\n",
      "Processing Record 38 of Set 8: mount isa\n",
      "Processing Record 39 of Set 8: messina\n",
      "Processing Record 40 of Set 8: lindi\n",
      "Processing Record 41 of Set 8: hervey bay\n",
      "City not found. Skipping...\n",
      "Processing Record 42 of Set 8: soe\n",
      "Processing Record 43 of Set 8: zlatibor\n",
      "Processing Record 44 of Set 8: novopskov\n",
      "Processing Record 45 of Set 8: chincha alta\n",
      "Processing Record 46 of Set 8: sola\n",
      "Processing Record 47 of Set 8: eston\n",
      "Processing Record 48 of Set 8: belmonte\n",
      "Processing Record 49 of Set 8: brewster\n",
      "Processing Record 50 of Set 8: limoeiro do ajuru\n",
      "Processing Record 1 of Set 9: nueva gerona\n",
      "Processing Record 2 of Set 9: glendive\n",
      "Processing Record 3 of Set 9: gornopravdinsk\n",
      "Processing Record 4 of Set 9: severo-yeniseyskiy\n",
      "Processing Record 5 of Set 9: praia\n",
      "Processing Record 6 of Set 9: barcelos\n",
      "Processing Record 7 of Set 9: te anau\n",
      "Processing Record 8 of Set 9: alenquer\n",
      "Processing Record 9 of Set 9: krasnaya gora\n",
      "Processing Record 10 of Set 9: pandamatenga\n",
      "City not found. Skipping...\n",
      "Processing Record 11 of Set 9: yershov\n",
      "Processing Record 12 of Set 9: leningradskiy\n",
      "Processing Record 13 of Set 9: innisfail\n",
      "Processing Record 14 of Set 9: flinders\n",
      "Processing Record 15 of Set 9: lavrentiya\n",
      "Processing Record 16 of Set 9: escanaba\n",
      "Processing Record 17 of Set 9: morro bay\n",
      "City not found. Skipping...\n",
      "Processing Record 18 of Set 9: coahuayana\n",
      "Processing Record 19 of Set 9: kenora\n",
      "Processing Record 20 of Set 9: eldorado\n",
      "Processing Record 21 of Set 9: port blair\n",
      "Processing Record 22 of Set 9: vila franca do campo\n",
      "Processing Record 23 of Set 9: kodinsk\n",
      "Processing Record 24 of Set 9: luderitz\n",
      "Processing Record 25 of Set 9: dakoro\n",
      "Processing Record 26 of Set 9: majene\n",
      "Processing Record 27 of Set 9: moron\n",
      "Processing Record 28 of Set 9: vardo\n",
      "City not found. Skipping...\n",
      "Processing Record 29 of Set 9: anadyr\n",
      "Processing Record 30 of Set 9: bonthe\n",
      "Processing Record 31 of Set 9: xining\n",
      "City not found. Skipping...\n",
      "City not found. Skipping...\n",
      "Processing Record 32 of Set 9: kampong thum\n",
      "Processing Record 33 of Set 9: mogapi\n",
      "Processing Record 34 of Set 9: san benedetto del tronto\n",
      "Processing Record 35 of Set 9: lata\n",
      "Processing Record 36 of Set 9: lodwar\n",
      "Processing Record 37 of Set 9: blagesti\n",
      "Processing Record 38 of Set 9: yagodnoye\n",
      "Processing Record 39 of Set 9: laguna\n",
      "Processing Record 40 of Set 9: rushden\n",
      "Processing Record 41 of Set 9: lokvine\n",
      "Processing Record 42 of Set 9: sisimiut\n",
      "Processing Record 43 of Set 9: williams lake\n",
      "Processing Record 44 of Set 9: kirakira\n",
      "Processing Record 45 of Set 9: batagay-alyta\n",
      "Processing Record 46 of Set 9: paamiut\n",
      "Processing Record 47 of Set 9: vallenar\n",
      "Processing Record 48 of Set 9: hambantota\n",
      "Processing Record 49 of Set 9: auch\n",
      "Processing Record 50 of Set 9: luanda\n",
      "Processing Record 1 of Set 10: westport\n",
      "Processing Record 2 of Set 10: minot\n",
      "Processing Record 3 of Set 10: kadayanallur\n",
      "Processing Record 4 of Set 10: dorado\n",
      "Processing Record 5 of Set 10: gatak\n",
      "City not found. Skipping...\n",
      "Processing Record 6 of Set 10: haines junction\n",
      "Processing Record 7 of Set 10: mumford\n",
      "Processing Record 8 of Set 10: raudeberg\n",
      "Processing Record 9 of Set 10: jensen beach\n",
      "Processing Record 10 of Set 10: pacifica\n",
      "Processing Record 11 of Set 10: salalah\n",
      "Processing Record 12 of Set 10: san policarpo\n",
      "Processing Record 13 of Set 10: praia da vitoria\n",
      "Processing Record 14 of Set 10: lobito\n",
      "Processing Record 15 of Set 10: filadelfia\n",
      "Processing Record 16 of Set 10: wanaka\n",
      "Processing Record 17 of Set 10: gasa\n",
      "Processing Record 18 of Set 10: port shepstone\n",
      "Processing Record 19 of Set 10: yeppoon\n",
      "City not found. Skipping...\n",
      "Processing Record 20 of Set 10: dalton\n",
      "Processing Record 21 of Set 10: trincomalee\n",
      "Processing Record 22 of Set 10: san vicente\n",
      "Processing Record 23 of Set 10: college\n",
      "Processing Record 24 of Set 10: tazovskiy\n",
      "Processing Record 25 of Set 10: mandali\n",
      "Processing Record 26 of Set 10: mozarlandia\n",
      "Processing Record 27 of Set 10: xiongzhou\n",
      "Processing Record 28 of Set 10: voh\n",
      "Processing Record 29 of Set 10: kruje\n",
      "Processing Record 30 of Set 10: moerai\n",
      "Processing Record 31 of Set 10: sept-iles\n",
      "Processing Record 32 of Set 10: turukhansk\n",
      "Processing Record 33 of Set 10: corrales\n",
      "Processing Record 34 of Set 10: meadow lake\n",
      "Processing Record 35 of Set 10: portland\n",
      "Processing Record 36 of Set 10: kattivakkam\n",
      "City not found. Skipping...\n",
      "City not found. Skipping...\n",
      "Processing Record 37 of Set 10: puerto suarez\n",
      "Processing Record 38 of Set 10: inta\n",
      "Processing Record 39 of Set 10: yei\n",
      "Processing Record 40 of Set 10: kedrovyy\n",
      "Processing Record 41 of Set 10: akividu\n",
      "Processing Record 42 of Set 10: soldotna\n",
      "Processing Record 43 of Set 10: saint-joseph\n",
      "Processing Record 44 of Set 10: evensk\n",
      "Processing Record 45 of Set 10: spirit river\n",
      "Processing Record 46 of Set 10: mount gambier\n",
      "Processing Record 47 of Set 10: presidencia roque saenz pena\n",
      "Processing Record 48 of Set 10: salvacion\n",
      "Processing Record 49 of Set 10: cravo norte\n",
      "Processing Record 50 of Set 10: pervomayskoye\n",
      "Processing Record 1 of Set 11: wad rawah\n",
      "Processing Record 2 of Set 11: itanhem\n",
      "Processing Record 3 of Set 11: kuznechnoye\n",
      "Processing Record 4 of Set 11: khani\n",
      "Processing Record 5 of Set 11: balikpapan\n",
      "Processing Record 6 of Set 11: kailua\n",
      "Processing Record 7 of Set 11: grand gaube\n",
      "Processing Record 8 of Set 11: erzin\n",
      "Processing Record 9 of Set 11: mandalgovi\n",
      "Processing Record 10 of Set 11: gizycko\n",
      "Processing Record 11 of Set 11: tairua\n",
      "Processing Record 12 of Set 11: doha\n",
      "Processing Record 13 of Set 11: bahia blanca\n",
      "Processing Record 14 of Set 11: henties bay\n",
      "Processing Record 15 of Set 11: karpathos\n",
      "Processing Record 16 of Set 11: erenhot\n",
      "Processing Record 17 of Set 11: atbasar\n",
      "Processing Record 18 of Set 11: bukama\n",
      "Processing Record 19 of Set 11: liptovsky hradok\n",
      "Processing Record 20 of Set 11: les cayes\n",
      "Processing Record 21 of Set 11: kurush\n",
      "Processing Record 22 of Set 11: hauterive\n",
      "Processing Record 23 of Set 11: bluffton\n",
      "City not found. Skipping...\n",
      "Processing Record 24 of Set 11: esso\n",
      "Processing Record 25 of Set 11: neuquen\n",
      "Processing Record 26 of Set 11: ayan\n",
      "Processing Record 27 of Set 11: maumere\n",
      "Processing Record 28 of Set 11: ambilobe\n",
      "Processing Record 29 of Set 11: lavras\n",
      "Processing Record 30 of Set 11: turkistan\n",
      "Processing Record 31 of Set 11: mae sai\n",
      "Processing Record 32 of Set 11: rameswaram\n",
      "Processing Record 33 of Set 11: fort carson\n",
      "Processing Record 34 of Set 11: douentza\n",
      "Processing Record 35 of Set 11: beringovskiy\n",
      "Processing Record 36 of Set 11: yumen\n",
      "Processing Record 37 of Set 11: olinda\n",
      "Processing Record 38 of Set 11: ivankiv\n",
      "Processing Record 39 of Set 11: olga\n",
      "Processing Record 40 of Set 11: pacific grove\n",
      "Processing Record 41 of Set 11: la rioja\n",
      "Processing Record 42 of Set 11: kholmsk\n",
      "Processing Record 43 of Set 11: soure\n",
      "Processing Record 44 of Set 11: isla mujeres\n",
      "Processing Record 45 of Set 11: lashio\n",
      "Processing Record 46 of Set 11: reporoa\n",
      "Processing Record 47 of Set 11: port hardy\n",
      "Processing Record 48 of Set 11: nizwa\n",
      "Processing Record 49 of Set 11: cap malheureux\n",
      "Processing Record 50 of Set 11: bubaque\n",
      "Processing Record 1 of Set 12: ugoofaaru\n",
      "Processing Record 2 of Set 12: luau\n",
      "Processing Record 3 of Set 12: pueblo nuevo\n",
      "Processing Record 4 of Set 12: jizan\n",
      "Processing Record 5 of Set 12: marsh harbour\n",
      "Processing Record 6 of Set 12: ust-ilimsk\n",
      "Processing Record 7 of Set 12: hay river\n",
      "Processing Record 8 of Set 12: acapulco\n",
      "Processing Record 9 of Set 12: orikum\n",
      "Processing Record 10 of Set 12: kyrylivka\n",
      "Processing Record 11 of Set 12: port hedland\n",
      "Processing Record 12 of Set 12: dombarovskiy\n",
      "Processing Record 13 of Set 12: komsomolskiy\n",
      "Processing Record 14 of Set 12: verkh-chebula\n",
      "-----------------------------\n",
      "Data Retrieval Complete\n",
      "-----------------------------\n"
     ]
    }
   ],
   "source": [
    "print('Beginning Data Retrieval ')\n",
    "print('-----------------------------')\n",
    "\n",
    "city_name = []\n",
    "lat = []\n",
    "lng = []\n",
    "max_temp = []\n",
    "humidity = []\n",
    "cloudiness = []\n",
    "wind_speed = []\n",
    "country = []\n",
    "date = []\n",
    "index_count = 0\n",
    "set_count = 1\n",
    "\n",
    "# Loop through the list of cities and perform a request for data on each\n",
    "for city in cities:\n",
    "    city=city\n",
    "    response = requests.get(query_url + city).json()\n",
    "    \n",
    "    try:\n",
    "        lat.append(response['coord']['lat'])\n",
    "        lng.append(response['coord']['lon'])\n",
    "        max_temp.append(response['main']['temp_max'])\n",
    "        humidity.append(response['main']['humidity'])\n",
    "        cloudiness.append(response['clouds']['all'])\n",
    "        wind_speed.append(response['wind']['speed'])\n",
    "        country.append(response['sys']['country'])\n",
    "        date.append(response['dt'])\n",
    "        city_name.append(response['name'])\n",
    "        if index_count > 49:\n",
    "            index_count = 1\n",
    "            set_count = set_count + 1\n",
    "        else:\n",
    "            index_count = index_count + 1\n",
    "            \n",
    "        print(f'Processing Record {index_count} of Set {set_count}: {city}')\n",
    "        \n",
    "    except(KeyError,IndexError):\n",
    "        print('City not found. Skipping...')\n",
    "        \n",
    "print('-----------------------------')\n",
    "print('Data Retrieval Complete')\n",
    "print('-----------------------------')\n",
    "    "
   ]
  },
  {
   "cell_type": "markdown",
   "metadata": {},
   "source": [
    "### Convert Raw Data to DataFrame\n",
    "* Export the city data into a .csv.\n",
    "* Display the DataFrame"
   ]
  },
  {
   "cell_type": "code",
   "execution_count": 6,
   "metadata": {},
   "outputs": [
    {
     "data": {
      "text/html": [
       "<div>\n",
       "<style scoped>\n",
       "    .dataframe tbody tr th:only-of-type {\n",
       "        vertical-align: middle;\n",
       "    }\n",
       "\n",
       "    .dataframe tbody tr th {\n",
       "        vertical-align: top;\n",
       "    }\n",
       "\n",
       "    .dataframe thead th {\n",
       "        text-align: right;\n",
       "    }\n",
       "</style>\n",
       "<table border=\"1\" class=\"dataframe\">\n",
       "  <thead>\n",
       "    <tr style=\"text-align: right;\">\n",
       "      <th></th>\n",
       "      <th>City</th>\n",
       "      <th>Lat</th>\n",
       "      <th>Lng</th>\n",
       "      <th>Max Temp</th>\n",
       "      <th>Humidity</th>\n",
       "      <th>Cloudiness</th>\n",
       "      <th>Wind Speed</th>\n",
       "      <th>Country</th>\n",
       "      <th>Date</th>\n",
       "    </tr>\n",
       "  </thead>\n",
       "  <tbody>\n",
       "    <tr>\n",
       "      <th>0</th>\n",
       "      <td>Jamestown</td>\n",
       "      <td>42.0970</td>\n",
       "      <td>-79.2353</td>\n",
       "      <td>45.0</td>\n",
       "      <td>75</td>\n",
       "      <td>75</td>\n",
       "      <td>21.85</td>\n",
       "      <td>US</td>\n",
       "      <td>1619797843</td>\n",
       "    </tr>\n",
       "    <tr>\n",
       "      <th>1</th>\n",
       "      <td>Hobart</td>\n",
       "      <td>-42.8794</td>\n",
       "      <td>147.3294</td>\n",
       "      <td>51.8</td>\n",
       "      <td>82</td>\n",
       "      <td>2</td>\n",
       "      <td>5.75</td>\n",
       "      <td>AU</td>\n",
       "      <td>1619797935</td>\n",
       "    </tr>\n",
       "    <tr>\n",
       "      <th>2</th>\n",
       "      <td>Punta Arenas</td>\n",
       "      <td>-53.1500</td>\n",
       "      <td>-70.9167</td>\n",
       "      <td>41.0</td>\n",
       "      <td>93</td>\n",
       "      <td>75</td>\n",
       "      <td>9.22</td>\n",
       "      <td>CL</td>\n",
       "      <td>1619798059</td>\n",
       "    </tr>\n",
       "    <tr>\n",
       "      <th>3</th>\n",
       "      <td>Albany</td>\n",
       "      <td>42.6001</td>\n",
       "      <td>-73.9662</td>\n",
       "      <td>55.0</td>\n",
       "      <td>69</td>\n",
       "      <td>100</td>\n",
       "      <td>1.99</td>\n",
       "      <td>US</td>\n",
       "      <td>1619798060</td>\n",
       "    </tr>\n",
       "    <tr>\n",
       "      <th>4</th>\n",
       "      <td>Ribeira Grande</td>\n",
       "      <td>38.5167</td>\n",
       "      <td>-28.7000</td>\n",
       "      <td>62.6</td>\n",
       "      <td>63</td>\n",
       "      <td>40</td>\n",
       "      <td>8.05</td>\n",
       "      <td>PT</td>\n",
       "      <td>1619798062</td>\n",
       "    </tr>\n",
       "  </tbody>\n",
       "</table>\n",
       "</div>"
      ],
      "text/plain": [
       "             City      Lat       Lng  Max Temp  Humidity  Cloudiness  \\\n",
       "0       Jamestown  42.0970  -79.2353      45.0        75          75   \n",
       "1          Hobart -42.8794  147.3294      51.8        82           2   \n",
       "2    Punta Arenas -53.1500  -70.9167      41.0        93          75   \n",
       "3          Albany  42.6001  -73.9662      55.0        69         100   \n",
       "4  Ribeira Grande  38.5167  -28.7000      62.6        63          40   \n",
       "\n",
       "   Wind Speed Country        Date  \n",
       "0       21.85      US  1619797843  \n",
       "1        5.75      AU  1619797935  \n",
       "2        9.22      CL  1619798059  \n",
       "3        1.99      US  1619798060  \n",
       "4        8.05      PT  1619798062  "
      ]
     },
     "execution_count": 6,
     "metadata": {},
     "output_type": "execute_result"
    }
   ],
   "source": [
    "weather_df = pd.DataFrame({'City':city_name,\n",
    "                            'Lat':lat,\n",
    "                            'Lng':lng,\n",
    "                            'Max Temp':max_temp,\n",
    "                            'Humidity':humidity,\n",
    "                            'Cloudiness':cloudiness,\n",
    "                            'Wind Speed':wind_speed,\n",
    "                            'Country':country,\n",
    "                            'Date':date})\n",
    "weather_df.head()"
   ]
  },
  {
   "cell_type": "code",
   "execution_count": 7,
   "metadata": {},
   "outputs": [],
   "source": [
    "weather_df.to_csv('output_data/cities.csv')"
   ]
  },
  {
   "cell_type": "markdown",
   "metadata": {},
   "source": [
    "## Inspect the data and remove the cities where the humidity > 100%.\n",
    "----\n",
    "Skip this step if there are no cities that have humidity > 100%. "
   ]
  },
  {
   "cell_type": "code",
   "execution_count": null,
   "metadata": {},
   "outputs": [],
   "source": []
  },
  {
   "cell_type": "code",
   "execution_count": 8,
   "metadata": {},
   "outputs": [
    {
     "data": {
      "text/html": [
       "<div>\n",
       "<style scoped>\n",
       "    .dataframe tbody tr th:only-of-type {\n",
       "        vertical-align: middle;\n",
       "    }\n",
       "\n",
       "    .dataframe tbody tr th {\n",
       "        vertical-align: top;\n",
       "    }\n",
       "\n",
       "    .dataframe thead th {\n",
       "        text-align: right;\n",
       "    }\n",
       "</style>\n",
       "<table border=\"1\" class=\"dataframe\">\n",
       "  <thead>\n",
       "    <tr style=\"text-align: right;\">\n",
       "      <th></th>\n",
       "      <th>City</th>\n",
       "      <th>Lat</th>\n",
       "      <th>Lng</th>\n",
       "      <th>Max Temp</th>\n",
       "      <th>Humidity</th>\n",
       "      <th>Cloudiness</th>\n",
       "      <th>Wind Speed</th>\n",
       "      <th>Country</th>\n",
       "      <th>Date</th>\n",
       "    </tr>\n",
       "  </thead>\n",
       "  <tbody>\n",
       "  </tbody>\n",
       "</table>\n",
       "</div>"
      ],
      "text/plain": [
       "Empty DataFrame\n",
       "Columns: [City, Lat, Lng, Max Temp, Humidity, Cloudiness, Wind Speed, Country, Date]\n",
       "Index: []"
      ]
     },
     "execution_count": 8,
     "metadata": {},
     "output_type": "execute_result"
    }
   ],
   "source": [
    "#  Get the indices of cities that have humidity over 100%.\n",
    "weather_df.loc[weather_df['Humidity'] > 100]"
   ]
  },
  {
   "cell_type": "code",
   "execution_count": 9,
   "metadata": {},
   "outputs": [],
   "source": [
    "# Make a new DataFrame equal to the city data to drop all humidity outliers by index.\n",
    "# Passing \"inplace=False\" will make a copy of the city_data DataFrame, which we call \"clean_city_data\".\n"
   ]
  },
  {
   "cell_type": "code",
   "execution_count": null,
   "metadata": {},
   "outputs": [],
   "source": [
    "\n"
   ]
  },
  {
   "cell_type": "markdown",
   "metadata": {},
   "source": [
    "## Plotting the Data\n",
    "* Use proper labeling of the plots using plot titles (including date of analysis) and axes labels.\n",
    "* Save the plotted figures as .pngs."
   ]
  },
  {
   "cell_type": "markdown",
   "metadata": {},
   "source": [
    "## Latitude vs. Temperature Plot"
   ]
  },
  {
   "cell_type": "code",
   "execution_count": 10,
   "metadata": {
    "scrolled": true
   },
   "outputs": [
    {
     "data": {
      "image/png": "[encoded data removed]",
      "text/plain": [
       "<Figure size 432x288 with 1 Axes>"
      ]
     },
     "metadata": {
      "needs_background": "light"
     },
     "output_type": "display_data"
    }
   ],
   "source": [
    "lat = weather_df['Lat']\n",
    "temp = weather_df['Max Temp']\n",
    "\n",
    "plt.scatter(lat, temp, marker=\"o\", facecolors=\"blue\", edgecolors=\"black\")\n",
    "\n",
    "plt.xlabel('Latitude')\n",
    "plt.ylabel('Max Temperature')\n",
    "plt.title('Latitude vs. Max Temperature')\n",
    "\n",
    "plt.savefig(\"output_data/Lat_vs_Temp.png\")"
   ]
  },
  {
   "cell_type": "markdown",
   "metadata": {},
   "source": [
    "## Latitude vs. Humidity Plot"
   ]
  },
  {
   "cell_type": "code",
   "execution_count": 11,
   "metadata": {},
   "outputs": [
    {
     "data": {
      "image/png": "[encoded data removed]",
      "text/plain": [
       "<Figure size 432x288 with 1 Axes>"
      ]
     },
     "metadata": {
      "needs_background": "light"
     },
     "output_type": "display_data"
    }
   ],
   "source": [
    "lat = weather_df['Lat']\n",
    "humidity = weather_df['Humidity']\n",
    "\n",
    "plt.scatter(lat, humidity, marker=\"o\", facecolors=\"blue\", edgecolors=\"black\")\n",
    "\n",
    "plt.xlabel('Latitude')\n",
    "plt.ylabel('Humidity')\n",
    "plt.title('Latitude vs. Humidity')\n",
    "\n",
    "plt.savefig(\"output_data/Lat_vs_Humidity.png\")"
   ]
  },
  {
   "cell_type": "markdown",
   "metadata": {},
   "source": [
    "## Latitude vs. Cloudiness Plot"
   ]
  },
  {
   "cell_type": "code",
   "execution_count": 12,
   "metadata": {},
   "outputs": [
    {
     "data": {
      "image/png": "[encoded data removed]",
      "text/plain": [
       "<Figure size 432x288 with 1 Axes>"
      ]
     },
     "metadata": {
      "needs_background": "light"
     },
     "output_type": "display_data"
    }
   ],
   "source": [
    "lat = weather_df['Lat']\n",
    "cloudiness = weather_df['Cloudiness']\n",
    "\n",
    "plt.scatter(lat, cloudiness, marker=\"o\", facecolors=\"blue\", edgecolors=\"black\")\n",
    "\n",
    "plt.xlabel('Latitude')\n",
    "plt.ylabel('Cloudiness')\n",
    "plt.title('Latitude vs. Cloudiness')\n",
    "\n",
    "plt.savefig(\"output_data/Lat_vs_Cloudiness.png\")"
   ]
  },
  {
   "cell_type": "markdown",
   "metadata": {},
   "source": [
    "## Latitude vs. Wind Speed Plot"
   ]
  },
  {
   "cell_type": "code",
   "execution_count": 13,
   "metadata": {},
   "outputs": [
    {
     "data": {
      "image/png": "[encoded data removed]",
      "text/plain": [
       "<Figure size 432x288 with 1 Axes>"
      ]
     },
     "metadata": {
      "needs_background": "light"
     },
     "output_type": "display_data"
    }
   ],
   "source": [
    "lat = weather_df['Lat']\n",
    "wind_speed = weather_df['Wind Speed']\n",
    "\n",
    "plt.scatter(lat, wind_speed, marker=\"o\", facecolors=\"blue\", edgecolors=\"black\")\n",
    "\n",
    "plt.xlabel('Latitude')\n",
    "plt.ylabel('Wind Speed')\n",
    "plt.title('Latitude vs. Wind Speed')\n",
    "\n",
    "plt.savefig(\"output_data/Lat_vs_Wind_Speed.png\")"
   ]
  },
  {
   "cell_type": "markdown",
   "metadata": {},
   "source": [
    "## Linear Regression"
   ]
  },
  {
   "cell_type": "code",
   "execution_count": 14,
   "metadata": {},
   "outputs": [],
   "source": [
    "north_hem = weather_df.loc[weather_df['Lat'] >= 0]\n",
    "south_hem = weather_df.loc[weather_df['Lat'] < 0]"
   ]
  },
  {
   "cell_type": "markdown",
   "metadata": {},
   "source": [
    "####  Northern Hemisphere - Max Temp vs. Latitude Linear Regression"
   ]
  },
  {
   "cell_type": "code",
   "execution_count": 26,
   "metadata": {},
   "outputs": [
    {
     "data": {
      "text/plain": [
       "Text(0.5, 1.0, 'Northern Hemisphere Latitude vs. Max Temperature Linear Regression')"
      ]
     },
     "execution_count": 26,
     "metadata": {},
     "output_type": "execute_result"
    },
    {
     "data": {
      "image/png": "[encoded data removed]",
      "text/plain": [
       "<Figure size 432x288 with 1 Axes>"
      ]
     },
     "metadata": {
      "needs_background": "light"
     },
     "output_type": "display_data"
    }
   ],
   "source": [
    "lat = north_hem['Lat']\n",
    "temp = north_hem['Max Temp']\n",
    "\n",
    "north_temp = north_hem.iloc[:, 3]\n",
    "t_slope, t_int, t_r, t_p, t_std_err = stats.linregress(lat, north_temp)\n",
    "t_fit = t_slope * lat + t_int\n",
    "\n",
    "plt.scatter(lat, temp, marker=\"o\", facecolors=\"blue\", edgecolors=\"black\")\n",
    "plt.plot(lat,t_fit,\"-\",color='red')\n",
    "line_eq = \"y = \" + str(round(t_slope,2)) + \"x + \" + str(round(t_int,2))\n",
    "plt.annotate(line_eq,(2,35),fontsize=15,color=\"red\")\n",
    "\n",
    "plt.xlabel('Latitude')\n",
    "plt.ylabel('Max Temperature')\n",
    "plt.title('Northern Hemisphere Latitude vs. Max Temperature Linear Regression')"
   ]
  },
  {
   "cell_type": "markdown",
   "metadata": {},
   "source": [
    "####  Southern Hemisphere - Max Temp vs. Latitude Linear Regression"
   ]
  },
  {
   "cell_type": "code",
   "execution_count": 27,
   "metadata": {},
   "outputs": [
    {
     "data": {
      "text/plain": [
       "Text(0.5, 1.0, 'Southern Hemisphere Latitude vs. Max Temperature Linear Regression')"
      ]
     },
     "execution_count": 27,
     "metadata": {},
     "output_type": "execute_result"
    },
    {
     "data": {
      "image/png": "[encoded data removed]",
      "text/plain": [
       "<Figure size 432x288 with 1 Axes>"
      ]
     },
     "metadata": {
      "needs_background": "light"
     },
     "output_type": "display_data"
    }
   ],
   "source": [
    "lat = south_hem['Lat']\n",
    "temp = south_hem['Max Temp']\n",
    "\n",
    "south_temp = south_hem.iloc[:, 3]\n",
    "t_slope, t_int, t_r, t_p, t_std_err = stats.linregress(lat, south_temp)\n",
    "t_fit = t_slope * lat + t_int\n",
    "\n",
    "plt.scatter(lat, temp, marker=\"o\", facecolors=\"blue\", edgecolors=\"black\")\n",
    "plt.plot(lat,t_fit,\"-\",color='red')\n",
    "line_eq = \"y = \" + str(round(t_slope,2)) + \"x + \" + str(round(t_int,2))\n",
    "plt.annotate(line_eq,(-50,80),fontsize=15,color=\"red\")\n",
    "\n",
    "plt.xlabel('Latitude')\n",
    "plt.ylabel('Max Temperature')\n",
    "plt.title('Southern Hemisphere Latitude vs. Max Temperature Linear Regression')"
   ]
  },
  {
   "cell_type": "markdown",
   "metadata": {},
   "source": [
    "####  Northern Hemisphere - Humidity (%) vs. Latitude Linear Regression"
   ]
  },
  {
   "cell_type": "code",
   "execution_count": 17,
   "metadata": {},
   "outputs": [
    {
     "data": {
      "text/plain": [
       "Text(0.5, 1.0, 'Northern Hemisphere Latitude vs. Humidity Linear Regression')"
      ]
     },
     "execution_count": 17,
     "metadata": {},
     "output_type": "execute_result"
    },
    {
     "data": {
      "image/png": "[encoded data removed]",
      "text/plain": [
       "<Figure size 432x288 with 1 Axes>"
      ]
     },
     "metadata": {
      "needs_background": "light"
     },
     "output_type": "display_data"
    }
   ],
   "source": [
    "lat = north_hem['Lat']\n",
    "humidity = north_hem['Humidity']\n",
    "\n",
    "north_hum = north_hem.iloc[:, 4]\n",
    "h_slope, h_int, h_r, h_p, h_std_err = stats.linregress(lat, north_hum)\n",
    "h_fit = h_slope * lat + h_int\n",
    "\n",
    "plt.scatter(lat, humidity, marker=\"o\", facecolors=\"blue\", edgecolors=\"black\")\n",
    "plt.plot(lat,h_fit,\"-\",color='red')\n",
    "line_eq = \"y = \" + str(round(h_slope,2)) + \"x + \" + str(round(h_int,2))\n",
    "plt.annotate(line_eq,(45,15),fontsize=15,color=\"red\")\n",
    "\n",
    "plt.xlabel('Latitude')\n",
    "plt.ylabel('Humidity')\n",
    "plt.title('Northern Hemisphere Latitude vs. Humidity Linear Regression')"
   ]
  },
  {
   "cell_type": "markdown",
   "metadata": {},
   "source": [
    "####  Southern Hemisphere - Humidity (%) vs. Latitude Linear Regression"
   ]
  },
  {
   "cell_type": "code",
   "execution_count": 29,
   "metadata": {},
   "outputs": [
    {
     "data": {
      "text/plain": [
       "Text(0.5, 1.0, 'Southern Hemisphere Latitude vs. Humidity Linear Regression')"
      ]
     },
     "execution_count": 29,
     "metadata": {},
     "output_type": "execute_result"
    },
    {
     "data": {
      "image/png": "[encoded data removed]",
      "text/plain": [
       "<Figure size 432x288 with 1 Axes>"
      ]
     },
     "metadata": {
      "needs_background": "light"
     },
     "output_type": "display_data"
    }
   ],
   "source": [
    "lat = south_hem['Lat']\n",
    "humidity = south_hem['Humidity']\n",
    "\n",
    "south_hum = south_hem.iloc[:, 4]\n",
    "h_slope, h_int, h_r, h_p, h_std_err = stats.linregress(lat, south_hum)\n",
    "h_fit = h_slope * lat + h_int\n",
    "\n",
    "plt.scatter(lat, humidity, marker=\"o\", facecolors=\"blue\", edgecolors=\"black\")\n",
    "plt.plot(lat,h_fit,\"-\",color='red')\n",
    "line_eq = \"y = \" + str(round(h_slope,2)) + \"x + \" + str(round(h_int,2))\n",
    "plt.annotate(line_eq,(-57,40),fontsize=15,color=\"red\")\n",
    "\n",
    "plt.xlabel('Latitude')\n",
    "plt.ylabel('Humidity')\n",
    "plt.title('Southern Hemisphere Latitude vs. Humidity Linear Regression')"
   ]
  },
  {
   "cell_type": "markdown",
   "metadata": {},
   "source": [
    "####  Northern Hemisphere - Cloudiness (%) vs. Latitude Linear Regression"
   ]
  },
  {
   "cell_type": "code",
   "execution_count": 19,
   "metadata": {},
   "outputs": [
    {
     "data": {
      "text/plain": [
       "Text(0.5, 1.0, 'Northern Hemisphere Latitude vs. Cloudiness Linear Regression')"
      ]
     },
     "execution_count": 19,
     "metadata": {},
     "output_type": "execute_result"
    },
    {
     "data": {
      "image/png": "[encoded data removed]",
      "text/plain": [
       "<Figure size 432x288 with 1 Axes>"
      ]
     },
     "metadata": {
      "needs_background": "light"
     },
     "output_type": "display_data"
    }
   ],
   "source": [
    "lat = north_hem['Lat']\n",
    "cloudiness = north_hem['Cloudiness']\n",
    "\n",
    "north_cloud = north_hem.iloc[:, 5]\n",
    "c_slope, c_int, c_r, c_p, c_std_err = stats.linregress(lat, north_cloud)\n",
    "c_fit = c_slope * lat + c_int\n",
    "\n",
    "plt.scatter(lat, cloudiness, marker=\"o\", facecolors=\"blue\", edgecolors=\"black\")\n",
    "plt.plot(lat,c_fit,\"-\",color='red')\n",
    "line_eq = \"y = \" + str(round(c_slope,2)) + \"x + \" + str(round(c_int,2))\n",
    "plt.annotate(line_eq,(45,45),fontsize=15,color=\"red\")\n",
    "\n",
    "plt.xlabel('Latitude')\n",
    "plt.ylabel('Cloudiness')\n",
    "plt.title('Northern Hemisphere Latitude vs. Cloudiness Linear Regression')"
   ]
  },
  {
   "cell_type": "markdown",
   "metadata": {},
   "source": [
    "####  Southern Hemisphere - Cloudiness (%) vs. Latitude Linear Regression"
   ]
  },
  {
   "cell_type": "code",
   "execution_count": 30,
   "metadata": {},
   "outputs": [
    {
     "data": {
      "text/plain": [
       "Text(0.5, 1.0, 'Southern Hemisphere Latitude vs. Cloudiness Linear Regression')"
      ]
     },
     "execution_count": 30,
     "metadata": {},
     "output_type": "execute_result"
    },
    {
     "data": {
      "image/png": "[encoded data removed]",
      "text/plain": [
       "<Figure size 432x288 with 1 Axes>"
      ]
     },
     "metadata": {
      "needs_background": "light"
     },
     "output_type": "display_data"
    }
   ],
   "source": [
    "lat = south_hem['Lat']\n",
    "cloudiness = south_hem['Cloudiness']\n",
    "\n",
    "south_cloud = south_hem.iloc[:, 5]\n",
    "c_slope, c_int, c_r, c_p, c_std_err = stats.linregress(lat, south_cloud)\n",
    "c_fit = c_slope * lat + c_int\n",
    "\n",
    "plt.scatter(lat, cloudiness, marker=\"o\", facecolors=\"blue\", edgecolors=\"black\")\n",
    "plt.plot(lat,c_fit,\"-\",color='red')\n",
    "line_eq = \"y = \" + str(round(c_slope,2)) + \"x + \" + str(round(c_int,2))\n",
    "plt.annotate(line_eq,(-45,58),fontsize=15,color=\"red\")\n",
    "\n",
    "plt.xlabel('Latitude')\n",
    "plt.ylabel('Cloudiness')\n",
    "plt.title('Southern Hemisphere Latitude vs. Cloudiness Linear Regression')"
   ]
  },
  {
   "cell_type": "markdown",
   "metadata": {},
   "source": [
    "####  Northern Hemisphere - Wind Speed (mph) vs. Latitude Linear Regression"
   ]
  },
  {
   "cell_type": "code",
   "execution_count": 31,
   "metadata": {},
   "outputs": [
    {
     "data": {
      "text/plain": [
       "Text(0.5, 1.0, 'Northern Hemisphere Latitude vs. Wind Speed Linear Regression')"
      ]
     },
     "execution_count": 31,
     "metadata": {},
     "output_type": "execute_result"
    },
    {
     "data": {
      "image/png": "[encoded data removed]",
      "text/plain": [
       "<Figure size 432x288 with 1 Axes>"
      ]
     },
     "metadata": {
      "needs_background": "light"
     },
     "output_type": "display_data"
    }
   ],
   "source": [
    "lat = north_hem['Lat']\n",
    "wind_speed = north_hem['Wind Speed']\n",
    "\n",
    "north_wind = north_hem.iloc[:, 6]\n",
    "w_slope, w_int, w_r, w_p, w_std_err = stats.linregress(lat, north_wind)\n",
    "w_fit = w_slope * lat + w_int\n",
    "\n",
    "plt.scatter(lat, wind_speed, marker=\"o\", facecolors=\"blue\", edgecolors=\"black\")\n",
    "plt.plot(lat,w_fit,\"-\",color='red')\n",
    "line_eq = \"y = \" + str(round(w_slope,2)) + \"x + \" + str(round(w_int,2))\n",
    "plt.annotate(line_eq,(40,30),fontsize=15,color=\"red\")\n",
    "\n",
    "plt.xlabel('Latitude')\n",
    "plt.ylabel('Wind Speed')\n",
    "plt.title('Northern Hemisphere Latitude vs. Wind Speed Linear Regression')"
   ]
  },
  {
   "cell_type": "markdown",
   "metadata": {},
   "source": [
    "####  Southern Hemisphere - Wind Speed (mph) vs. Latitude Linear Regression"
   ]
  },
  {
   "cell_type": "code",
   "execution_count": 32,
   "metadata": {},
   "outputs": [
    {
     "data": {
      "text/plain": [
       "Text(0.5, 1.0, 'Southern Hemisphere Latitude vs. Wind Speed Linear Regression')"
      ]
     },
     "execution_count": 32,
     "metadata": {},
     "output_type": "execute_result"
    },
    {
     "data": {
      "image/png": "[encoded data removed]",
      "text/plain": [
       "<Figure size 432x288 with 1 Axes>"
      ]
     },
     "metadata": {
      "needs_background": "light"
     },
     "output_type": "display_data"
    }
   ],
   "source": [
    "lat = south_hem['Lat']\n",
    "wind_speed = south_hem['Wind Speed']\n",
    "\n",
    "south_wind = south_hem.iloc[:, 6]\n",
    "w_slope, w_int, w_r, w_p, w_std_err = stats.linregress(lat, south_wind)\n",
    "w_fit = w_slope * lat + w_int\n",
    "\n",
    "plt.scatter(lat, wind_speed, marker=\"o\", facecolors=\"blue\", edgecolors=\"black\")\n",
    "plt.plot(lat,w_fit,\"-\",color='red')\n",
    "line_eq = \"y = \" + str(round(w_slope,2)) + \"x + \" + str(round(w_int,2))\n",
    "plt.annotate(line_eq,(-50,22),fontsize=15,color=\"red\")\n",
    "\n",
    "plt.xlabel('Latitude')\n",
    "plt.ylabel('Wind Speed')\n",
    "plt.title('Southern Hemisphere Latitude vs. Wind Speed Linear Regression')"
   ]
  },
  {
   "cell_type": "code",
   "execution_count": null,
   "metadata": {},
   "outputs": [],
   "source": []
  }
 ],
 "metadata": {
  "anaconda-cloud": {},
  "kernel_info": {
   "name": "python3"
  },
  "kernelspec": {
   "display_name": "Python 3",
   "language": "python",
   "name": "python3"
  },
  "language_info": {
   "codemirror_mode": {
    "name": "ipython",
    "version": 3
   },
   "file_extension": ".py",
   "mimetype": "text/x-python",
   "name": "python",
   "nbconvert_exporter": "python",
   "pygments_lexer": "ipython3",
   "version": "3.8.5"
  },
  "latex_envs": {
   "LaTeX_envs_menu_present": true,
   "autoclose": false,
   "autocomplete": true,
   "bibliofile": "biblio.bib",
   "cite_by": "apalike",
   "current_citInitial": 1,
   "eqLabelWithNumbers": true,
   "eqNumInitial": 1,
   "hotkeys": {
    "equation": "Ctrl-E",
    "itemize": "Ctrl-I"
   },
   "labels_anchors": false,
   "latex_user_defs": false,
   "report_style_numbering": false,
   "user_envs_cfg": false
  },
  "nteract": {
   "version": "0.12.3"
  }
 },
 "nbformat": 4,
 "nbformat_minor": 2
}
